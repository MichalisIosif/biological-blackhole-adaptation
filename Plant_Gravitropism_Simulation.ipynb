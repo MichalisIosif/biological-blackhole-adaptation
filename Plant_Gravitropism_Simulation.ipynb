{
 "cells": [
  {
   "cell_type": "markdown",
   "id": "b0fc4960-7262-4c9f-9c36-5fc736fbff18",
   "metadata": {},
   "source": [
    "# Plant Gravitropism Simulation 🌱\n",
    "\n",
    "This simulation models how plants grow in response to gravity — a process called **gravitropism**.\n",
    "\n",
    "Plants detect gravity using specialized cells and hormones like **auxin**, allowing them to grow upward even when tilted.\n",
    "\n",
    "This notebook shows a simple simulation of a plant stem \"bending\" as it grows, trying to reorient itself against gravity.\n"
   ]
  },
  {
   "cell_type": "code",
   "execution_count": null,
   "id": "0dba20d8-2689-4f7c-aeef-c383c42cfd7c",
   "metadata": {},
   "outputs": [],
   "source": [
    "import numpy as np\n",
    "import matplotlib.pyplot as plt\n",
    "\n",
    "# Settings\n",
    "steps = 20  # number of growth steps\n",
    "stem_x = [0]  # start x position of stem\n",
    "stem_y = [0]  # start y position of stem\n"
   ]
  },
  {
   "cell_type": "markdown",
   "id": "839feec2-9fad-4722-815c-307d227a80be",
   "metadata": {},
   "source": [
    "## How It Works\n",
    "\n",
    "Each step simulates plant growth:\n",
    "- The plant grows mostly **up**, but with small deviations.\n",
    "- We use randomness to simulate hormonal imbalance (like auxin distribution).\n",
    "- Over time, the stem curves and tries to \"correct\" itself toward vertical growth.\n"
   ]
  },
  {
   "cell_type": "code",
   "execution_count": null,
   "id": "35cdf37a-b83b-4da5-92ff-596f54f5528f",
   "metadata": {},
   "outputs": [],
   "source": [
    "# Simulate growth using small random angle changes (like auxin effect)\n",
    "for i in range(steps):\n",
    "    # Slight random change around 90° (upward)\n",
    "    angle = np.radians(90 + np.random.uniform(-20, 20))\n",
    "    dx = np.cos(angle)\n",
    "    dy = np.sin(angle)\n",
    "\n",
    "    new_x = stem_x[-1] + dx\n",
    "    new_y = stem_y[-1] + dy\n",
    "\n",
    "    stem_x.append(new_x)\n",
    "    stem_y.append(new_y)\n"
   ]
  },
  {
   "cell_type": "code",
   "execution_count": null,
   "id": "b0d0fe4c-77ba-4eb2-9a90-2fbf92820378",
   "metadata": {},
   "outputs": [],
   "source": [
    "plt.figure(figsize=(6, 10))\n",
    "plt.plot(stem_x, stem_y, marker='o', color='green')\n",
    "plt.title(\"Simulated Plant Stem Growth Against Gravity\")\n",
    "plt.xlabel(\"Horizontal Position\")\n",
    "plt.ylabel(\"Vertical Position\")\n",
    "plt.grid(True)\n",
    "plt.axis(\"equal\")\n",
    "plt.show()\n"
   ]
  },
  {
   "cell_type": "markdown",
   "id": "5eb1d6b3-4516-4d14-a8a1-8dacae3019c3",
   "metadata": {},
   "source": [
    "## Results & Thoughts\n",
    "\n",
    "This simulation shows how a plant adjusts its growth direction using internal biological feedback.\n",
    "\n",
    "Over time, it \"bends\" back toward vertical — an adaptive behavior that helps it reach light and resist gravity.\n",
    "\n",
    "Could similar feedback mechanisms help artificial systems orient themselves in gravitationally unstable environments, like near a black hole?\n"
   ]
  },
  {
   "cell_type": "code",
   "execution_count": null,
   "id": "5d0d14a6-89d6-4f24-9714-cbb2564d37e7",
   "metadata": {},
   "outputs": [],
   "source": []
  },
  {
   "cell_type": "code",
   "execution_count": null,
   "id": "f7e8bceb-ebfb-43a0-b409-28b01b875c5b",
   "metadata": {},
   "outputs": [],
   "source": []
  }
 ],
 "metadata": {
  "kernelspec": {
   "display_name": "Python 3 (ipykernel)",
   "language": "python",
   "name": "python3"
  },
  "language_info": {
   "codemirror_mode": {
    "name": "ipython",
    "version": 3
   },
   "file_extension": ".py",
   "mimetype": "text/x-python",
   "name": "python",
   "nbconvert_exporter": "python",
   "pygments_lexer": "ipython3",
   "version": "3.13.2"
  }
 },
 "nbformat": 4,
 "nbformat_minor": 5
}
